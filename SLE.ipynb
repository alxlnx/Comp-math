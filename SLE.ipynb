{
 "cells": [
  {
   "cell_type": "code",
   "execution_count": 31,
   "metadata": {},
   "outputs": [],
   "source": [
    "!. ./.venv/bin/activate\n",
    "# 3 лаба - интегрирование (лев пр, центр пр, трапеция, Симпсон) + показать, что погрешность падает и построить интерп. многочлен "
   ]
  },
  {
   "cell_type": "markdown",
   "metadata": {},
   "source": [
    "### Lab 1\n",
    "Algos to program:\n",
    "1. Jacobi iterative method\n",
    "2. Seidel method\n",
    "3. Tridiagonal matrix algo (Thomas algorithm)\n",
    "4. Any variational method (наиск. спуска, минимальной невязки)"
   ]
  },
  {
   "cell_type": "markdown",
   "metadata": {},
   "source": [
    "### Трёхдиагональная прогонка"
   ]
  },
  {
   "cell_type": "code",
   "execution_count": 2,
   "metadata": {},
   "outputs": [
    {
     "name": "stdout",
     "output_type": "stream",
     "text": [
      "[  5.  26.  65. 122. 197. 290. 228.]\n",
      "[[ 1.  2.  0.  0.  0.  0.  0.]\n",
      " [ 3.  4.  5.  0.  0.  0.  0.]\n",
      " [ 0.  6.  7.  8.  0.  0.  0.]\n",
      " [ 0.  0.  9. 10. 11.  0.  0.]\n",
      " [ 0.  0.  0. 12. 13. 14.  0.]\n",
      " [ 0.  0.  0.  0. 15. 16. 17.]\n",
      " [ 0.  0.  0.  0.  0. 17. 18.]]\n"
     ]
    },
    {
     "data": {
      "text/plain": [
       "array([1., 2., 3., 4., 5., 6., 7.])"
      ]
     },
     "execution_count": 2,
     "metadata": {},
     "output_type": "execute_result"
    }
   ],
   "source": [
    "import numpy as np\n",
    "\n",
    "x = np.array( [1., 2, 3, 4, 5, 6, 7] )\n",
    "A = np.array([ [1., 2, 0, 0, 0, 0, 0],\n",
    "               [3, 4, 5, 0, 0, 0, 0],\n",
    "              [0, 6, 7, 8, 0, 0, 0],\n",
    "              [0, 0, 9, 10, 11, 0, 0],\n",
    "              [0, 0, 0, 12, 13, 14, 0],\n",
    "              [0, 0, 0, 0, 15, 16, 17],\n",
    "              [0, 0, 0, 0, 0, 17, 18] ])\n",
    "f = np.dot(A, x)\n",
    "print(f, A, sep='\\n')\n",
    "\n",
    "### Прогоночные коэффиценты\n",
    "n = len(x)\n",
    "# a\n",
    "a = [0]\n",
    "[ a.append(A[row][row-1]) for row in range(1, n)]\n",
    "# b\n",
    "b = [A[row][row] for row in range(0, n)]\n",
    "# c\n",
    "c = [A[row][row+1] for row in range(0, n-1)]\n",
    "c.append(0)\n",
    "\n",
    "E_0 = -c[0]/b[0]\n",
    "F_0 = f[0]*b[0]\n",
    "\n",
    "E = np.array( [0.]*n )\n",
    "F = np.array( [0.]*n )\n",
    "E[0] = E_0\n",
    "F[0] = F_0\n",
    "\n",
    "for k in range(0, n):\n",
    "  E[k] = -c[k]/(a[k]*E[k-1]+b[k])\n",
    "\n",
    "for k in range(0, n):\n",
    "  F[k] = (f[k] - a[k]*F[k-1])/(a[k]*E[k-1]+b[k])\n",
    "\n",
    "# Расчёт ответа\n",
    "y = np.array( [0.]*n )\n",
    "y[n-1] = F[n-1]\n",
    "for k in range(n-2, -1 ,-1):\n",
    "  y[k] = F[k] + E[k]*y[k+1]  \n",
    "\n",
    "y"
   ]
  },
  {
   "cell_type": "markdown",
   "metadata": {},
   "source": [
    "### Метод Якоби"
   ]
  },
  {
   "cell_type": "code",
   "execution_count": 3,
   "metadata": {},
   "outputs": [
    {
     "name": "stdout",
     "output_type": "stream",
     "text": [
      "[[10  2  2  2]\n",
      " [ 0  5  0  0]\n",
      " [ 1  1 15  2]\n",
      " [ 3  3  3 13]]\n",
      "[28 10 56 70]\n"
     ]
    },
    {
     "data": {
      "text/plain": [
       "array([1.00016213, 2.        , 3.0001008 , 4.00017392])"
      ]
     },
     "execution_count": 3,
     "metadata": {},
     "output_type": "execute_result"
    }
   ],
   "source": [
    "import numpy as np\n",
    "A = np.array( [\n",
    "  [10, 2, 2, 2],\n",
    "  [0, 5, 0, 0],\n",
    "  [1, 1, 15, 2],\n",
    "  [3, 3, 3, 13]\n",
    "] )\n",
    "x = [1, 2, 3, 4]\n",
    "f = A @ x\n",
    "print(A)\n",
    "print(f)\n",
    "\n",
    "def Jacobi(A, f, x_0, eps=1e-3, max_iter=1000):\n",
    "  x_cur = x_0.copy()\n",
    "  diag = A.diagonal()\n",
    "  for iter in range(0, max_iter):\n",
    "    delta = (f - A@x_cur)/diag\n",
    "    x_next = x_cur + delta\n",
    "    if (np.linalg.norm(delta) < eps):\n",
    "      return x_cur\n",
    "    x_cur = x_next\n",
    "\n",
    "y = Jacobi(A, f, [1,1,1,1])\n",
    "y"
   ]
  },
  {
   "cell_type": "markdown",
   "metadata": {},
   "source": [
    "### Метод Зейделя"
   ]
  },
  {
   "cell_type": "code",
   "execution_count": 4,
   "metadata": {},
   "outputs": [
    {
     "name": "stdout",
     "output_type": "stream",
     "text": [
      "[[10.  2.  2.  2.]\n",
      " [ 0.  5.  0.  0.]\n",
      " [ 1.  1. 15.  2.]\n",
      " [ 3.  3.  3. 13.]]\n",
      "[16.  5. 19. 22.]\n"
     ]
    },
    {
     "data": {
      "text/plain": [
       "array([0.99994462, 1.        , 0.99996565, 0.99993984])"
      ]
     },
     "execution_count": 4,
     "metadata": {},
     "output_type": "execute_result"
    }
   ],
   "source": [
    "from itertools import product\n",
    "import numpy as np\n",
    "\n",
    "A = np.array( [\n",
    "  [10., 2, 2, 2],\n",
    "  [0, 5, 0, 0],\n",
    "  [1, 1, 15, 2],\n",
    "  [3, 3, 3, 13]\n",
    "] )\n",
    "x = np.array( [1., 1, 1, 1] )\n",
    "f = A@x\n",
    "print(A)\n",
    "print(f)\n",
    "\n",
    "y0 = [0.4, 0.5, 4, 1]\n",
    "\n",
    "def Seidel(A, f, y0, eps=1e-3, max_iter=1000):\n",
    "  n = len(y0)\n",
    "\n",
    "  x = np.array(y0)\n",
    "  for k in range(0, max_iter):\n",
    "    x_cur = x.copy()\n",
    "    for j in range(0, n):\n",
    "      l = 0\n",
    "      for i in range(0, j):\n",
    "        l += A[j][i]/A[j][j]*x[i]\n",
    "      u = 0\n",
    "      for i in range(j+1, n):\n",
    "        u += A[j][i]/A[j][j]*x[i]\n",
    "      x[j] = f[j]/A[j][j] - l - u\n",
    "    if (np.linalg.norm(x_cur - x) < eps):\n",
    "      return x\n",
    "    \n",
    "Seidel(A, f, y0, eps=1e-6, max_iter=1000)\n",
    "\n",
    "def SimpleIter(A, f, y0, eps=1e-3, max_iter=1000):\n",
    "  D = A.diagonal()\n",
    "  n = len(y0)\n",
    "  U = np.array( [ (A[i][j] if i < j else 0) for i, j in product(range(0, n), repeat=2) ] )\n",
    "  U = U.reshape(n,n)\n",
    "\n",
    "  L = np.array( [ (A[i][j] if i > j else 0) for i, j in product(range(0, n), repeat=2) ] )\n",
    "  L = L.reshape(n,n)\n",
    "\n",
    "  y_cur = y0.copy()\n",
    "  for k in range(0, max_iter):\n",
    "    y_next = f/D - ((L + U)@y_cur)/D\n",
    "    if( np.linalg.norm(y_next - y_cur) < eps ):\n",
    "      return y_next\n",
    "    y_cur = y_next.copy()\n",
    "                 \n",
    "SimpleIter(A, f, y0)\n"
   ]
  },
  {
   "cell_type": "markdown",
   "metadata": {},
   "source": [
    "### Вариационный метод (метод наиск. спуска)"
   ]
  },
  {
   "cell_type": "code",
   "execution_count": 5,
   "metadata": {},
   "outputs": [
    {
     "name": "stdout",
     "output_type": "stream",
     "text": [
      "[[10.  2.  2.  2.]\n",
      " [ 0.  5.  0.  0.]\n",
      " [ 1.  1. 15.  2.]\n",
      " [ 3.  3.  3. 13.]]\n",
      "[278. 500. 216. 571.]\n",
      "[17.55197369  8.66399239 11.78403391  5.        ]\n"
     ]
    },
    {
     "data": {
      "text/plain": [
       "array([ 3.00000029, 99.99999919,  5.00000011, 19.00000031])"
      ]
     },
     "execution_count": 5,
     "metadata": {},
     "output_type": "execute_result"
    }
   ],
   "source": [
    "import numpy as np\n",
    "\n",
    "A = np.array( [\n",
    "  [10., 2, 2, 2],\n",
    "  [0, 5, 0, 0],\n",
    "  [1, 1, 15, 2],\n",
    "  [3, 3, 3, 13]\n",
    "] )\n",
    "#A = A.T.dot(A)\n",
    "x = np.array( [3., 100, 5, 19] )\n",
    "f = A@x\n",
    "print(A)\n",
    "print(f)\n",
    "\n",
    "y0 = [0.4, 0.5, 4, 1]\n",
    "\n",
    "print(np.linalg.eigvals(A))\n",
    "\n",
    "def fast_descend(A, f, y0, eps=1e-6, max_iter=1000):\n",
    "  y_cur = y0.copy()\n",
    "\n",
    "  for k in range(max_iter):\n",
    "    r = A@y_cur - f\n",
    "    t = np.dot(r, r)/(np.dot(A@r, r))\n",
    "    y_next = y_cur - t*(A@y_cur - f)\n",
    "    if( np.linalg.norm(y_next - y_cur) < eps ):\n",
    "      return y_next\n",
    "    y_cur = y_next.copy()\n",
    "\n",
    "fast_descend(A, f, y0)"
   ]
  }
 ],
 "metadata": {
  "kernelspec": {
   "display_name": ".venv",
   "language": "python",
   "name": "python3"
  },
  "language_info": {
   "codemirror_mode": {
    "name": "ipython",
    "version": 3
   },
   "file_extension": ".py",
   "mimetype": "text/x-python",
   "name": "python",
   "nbconvert_exporter": "python",
   "pygments_lexer": "ipython3",
   "version": "3.12.3"
  }
 },
 "nbformat": 4,
 "nbformat_minor": 2
}

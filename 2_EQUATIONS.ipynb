{
 "cells": [
  {
   "cell_type": "markdown",
   "metadata": {},
   "source": [
    "### 1 часть\n",
    "\n",
    "Решить нелинейное уравнение\n",
    "f(x) = 0\n",
    "f — любая гладкая, с заранее известным нам корнем\n",
    "1) методом деления пополам\n",
    "2) методом Ньютона (с диагностикой кратности корня)\n",
    "\n",
    "На доске пример такого уравнения\n",
    "\n",
    "### 2 часть\n",
    "\n",
    "Решить нелинейную систему 3 на 3"
   ]
  },
  {
   "cell_type": "code",
   "execution_count": 1,
   "metadata": {},
   "outputs": [],
   "source": [
    "!. ./.venv/bin/activate\n",
    "import numpy as np"
   ]
  },
  {
   "cell_type": "markdown",
   "metadata": {},
   "source": [
    "## 1. Метод деления пополам\n",
    "Уравнение\n",
    "$$\n",
    "e^{x} = 3.5\n",
    "$$\n",
    "Точное решение: $x = \\ln(3.5) \\approx 1.253$"
   ]
  },
  {
   "cell_type": "code",
   "execution_count": 2,
   "metadata": {},
   "outputs": [
    {
     "name": "stdout",
     "output_type": "stream",
     "text": [
      "Решение 1.2529296875\n"
     ]
    }
   ],
   "source": [
    "def dichotomy_iter(l0, r0, eps, max_iter, f):\n",
    "  l, r = l0, r0\n",
    "  prev_mid = 0\n",
    "  for i in range(max_iter):\n",
    "    mid = l + (r - l) / 2\n",
    "    if (f(mid) * f(l) < 0) :\n",
    "      r = mid\n",
    "    elif (f(mid) * f(r) < 0):\n",
    "      l = mid\n",
    "  \n",
    "    if (abs(prev_mid - mid) < eps):\n",
    "      return mid\n",
    "    prev_mid = mid\n",
    "    \n",
    "\n",
    "def f(x):\n",
    "  return np.exp(x) - 3.5\n",
    "\n",
    "EPS = 1e-3\n",
    "MAX_ITER = 100\n",
    "print(f'Решение {dichotomy_iter(0, 2, EPS, MAX_ITER, f)}')"
   ]
  },
  {
   "cell_type": "markdown",
   "metadata": {},
   "source": [
    "## 2. Метод Ньютона\n",
    "Уравнение\n",
    "$$\n",
    "(e^{x} - 3.5)^2 = 0\n",
    "$$\n",
    "Точное решение: $x = \\ln(3.5) \\approx 1.253$"
   ]
  },
  {
   "cell_type": "code",
   "execution_count": 30,
   "metadata": {},
   "outputs": [
    {
     "name": "stdout",
     "output_type": "stream",
     "text": [
      "Решение: 1.2527629684957866\n",
      "Корень имеет кратность 2\n"
     ]
    }
   ],
   "source": [
    "import sympy as sp\n",
    "\n",
    "def df(f, x0, eps=1e-6):\n",
    "   return ( f(x0 + eps) - f(x0) ) / eps\n",
    "\n",
    "def newton_iter(x0, f, max_iter, eps):\n",
    "  x_cur = x0\n",
    "  for i in range(max_iter):\n",
    "    try:\n",
    "      x_new = x_cur - f(x_cur)/df(f, x_cur)\n",
    "    except ZeroDivisionError:\n",
    "      print('Zero division encountered')\n",
    "      return None\n",
    "    \n",
    "    if abs(x_new - x_cur) < eps:\n",
    "      return x_new\n",
    "    x_cur = x_new\n",
    "\n",
    "  return x_new\n",
    "\n",
    "def f(x):\n",
    "  return np.exp(x) - 3.5\n",
    "\n",
    "def root_multiplicity(df, root, eps=1e-10, max_order=10):    \n",
    "    x = sp.symbols('x')\n",
    "    derivatives = [ df ]  \n",
    "    for _ in range(max_order):\n",
    "      derivatives.append( sp.diff(derivatives[-1], x) )\n",
    "    \n",
    "    derivatives = [ sp.lambdify(x, derivatives[i]) for i in range(len(derivatives)) ]\n",
    "\n",
    "    # Проверка кратности корня\n",
    "    for m in range(1, len(derivatives) + 1):\n",
    "        f_m = derivatives[m-1]\n",
    "        if abs(f_m(root)) > eps:\n",
    "            return f\"Корень имеет кратность {m}\"\n",
    "    \n",
    "    return f\"Корень имеет кратность больше {len(derivatives)}\"\n",
    "\n",
    "EPS = 1e-3\n",
    "MAX_ITER = 1000\n",
    "root = newton_iter(3, f, MAX_ITER, EPS)\n",
    "print(f'Решение: {root}')\n",
    "\n",
    "x = sp.symbols('x')\n",
    "f_ = (sp.exp(x) - 3.5)**2\n",
    "df_ = sp.diff(f_, x)\n",
    "f_num = sp.lambdify(x, f_)\n",
    "df_num = sp.lambdify(x, df_)\n",
    "\n",
    "result = root_multiplicity(df_, root)\n",
    "print(result)"
   ]
  },
  {
   "cell_type": "markdown",
   "metadata": {},
   "source": [
    "## 3. Решение нелинейной системы 3x3"
   ]
  },
  {
   "cell_type": "markdown",
   "metadata": {},
   "source": [
    "$$\n",
    "\\begin{cases}\n",
    "  x = 1 + \\cos{y} \\\\\n",
    "  y = 0.3 + \\sin{z} \\\\\n",
    "  z = \\frac{x}{6}\n",
    "\\end{cases}\n",
    "$$\n",
    "$ x \\approx 1.82557; y \\approx 0.599589; z \\approx 0.304261 $"
   ]
  },
  {
   "cell_type": "code",
   "execution_count": 4,
   "metadata": {},
   "outputs": [
    {
     "name": "stdout",
     "output_type": "stream",
     "text": [
      "Решение: [1.82556789 0.5995885  0.30426132]\n"
     ]
    }
   ],
   "source": [
    "def f(x0):\n",
    "  x, y, z = x0[0], x0[1], x0[2]\n",
    "  f1 = np.cos(y) + 1 - x\n",
    "  f2 = 0.3 + np.sin(z) - y\n",
    "  f3 = x/6 - z\n",
    "\n",
    "  return [f1, f2, f3]\n",
    "\n",
    "def J(x0):\n",
    "  J = np.ones([3,3])\n",
    "  x, y, z = x0[0], x0[1], x0[2]\n",
    "  J[0,0] = -1\n",
    "  J[0,1] = -np.sin(y)\n",
    "  J[0,2] = 0\n",
    "\n",
    "  J[1,0] = 0\n",
    "  J[1,1] = -1\n",
    "  J[1,2] = np.cos(z)\n",
    "\n",
    "  J[2,0] = 1/6\n",
    "  J[2,1] = 0\n",
    "  J[2,2] = -1\n",
    "\n",
    "  return J\n",
    "\n",
    "def newton_sys(x0, f, eps, max_iter):\n",
    "  x_cur = x0\n",
    "\n",
    "  for i in range(max_iter):\n",
    "    dx = -np.linalg.inv(J(x_cur))@f(x_cur)\n",
    "    x_new = x_cur + dx\n",
    "\n",
    "    if np.linalg.norm(x_new - x_cur) < eps:\n",
    "      return x_new\n",
    "    x_cur = x_new\n",
    "\n",
    "  return x_cur\n",
    "\n",
    "EPS=1e-3\n",
    "MAX_ITER=100\n",
    "print(f'Решение: {newton_sys([1,1,1], f, EPS, MAX_ITER)}')"
   ]
  }
 ],
 "metadata": {
  "kernelspec": {
   "display_name": ".venv",
   "language": "python",
   "name": "python3"
  },
  "language_info": {
   "codemirror_mode": {
    "name": "ipython",
    "version": 3
   },
   "file_extension": ".py",
   "mimetype": "text/x-python",
   "name": "python",
   "nbconvert_exporter": "python",
   "pygments_lexer": "ipython3",
   "version": "3.12.3"
  }
 },
 "nbformat": 4,
 "nbformat_minor": 2
}
